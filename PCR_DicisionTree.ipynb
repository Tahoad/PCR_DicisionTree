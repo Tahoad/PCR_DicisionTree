{
 "cells": [
  {
   "cell_type": "markdown",
   "id": "f0ce30b8",
   "metadata": {},
   "source": [
    "# Import lib and read dataset"
   ]
  },
  {
   "cell_type": "code",
   "execution_count": 51,
   "id": "3faef696",
   "metadata": {
    "scrolled": true
   },
   "outputs": [
    {
     "name": "stdout",
     "output_type": "stream",
     "text": [
      "<bound method NDFrame.head of         KVA RATEBILL  KW_PK  KW_PP_OP  KW_OP_H  MAX_KW  LoadUse_Percent  \\\n",
      "0       160     3224  44.63     39.58    45.49   45.49         0.284313   \n",
      "1        50     2114   7.26      4.76     7.50    7.50         0.150000   \n",
      "2        50     2114   0.00      0.00     0.00    0.00         0.000000   \n",
      "3        50     2114   0.00      0.00     0.00    0.00         0.000000   \n",
      "4       400     3224  12.00     11.20    13.60   13.60         0.034000   \n",
      "...     ...      ...    ...       ...      ...     ...              ...   \n",
      "462645  500     2114   2.70      0.00     0.00    2.70         0.005400   \n",
      "462646  100     2114  19.44      3.48     2.88   19.44         0.194400   \n",
      "462647   50     2114   0.00      0.00     0.00    0.00         0.000000   \n",
      "462648  160     3224  33.25      4.49    31.21   33.25         0.207813   \n",
      "462649   50     2114   0.00      0.00     0.00    0.00         0.000000   \n",
      "\n",
      "         KWH_PK  KWH_PP_OP  KWH_OP_H   KWH_TOT  AMT_KW_PK  AMT_KWH_PK  \\\n",
      "0       7857.57    2013.48   3973.92  13844.97    5932.67    32875.28   \n",
      "1        698.20     483.00    803.20   1984.40       0.00        0.00   \n",
      "2        186.00       0.00      0.00    186.00       0.00        0.00   \n",
      "3       3343.00       0.00      0.00   3343.00       0.00        0.00   \n",
      "4       1624.00    1136.00   1264.00   4024.00    1595.16     6794.65   \n",
      "...         ...        ...       ...       ...        ...         ...   \n",
      "462645   959.50       0.00      0.00    959.50       0.00        0.00   \n",
      "462646   207.00      55.20     30.90    293.10       0.00        0.00   \n",
      "462647  8038.00       0.00      0.00   8038.00       0.00        0.00   \n",
      "462648  3811.23     306.00    835.89   4953.12    4419.92    16044.14   \n",
      "462649   898.00       0.00      0.00    898.00       0.00        0.00   \n",
      "\n",
      "        AMT_KWH_OP  AMT_KWH_TOT   AMT_FT  AMT_BILL  AMT_VAT  AMT_INVOICE  \\\n",
      "0         15589.39     48464.67 -2201.35  52508.23  3675.58     56183.81   \n",
      "1             0.00      6792.61  1170.00   8274.85   579.24      8854.09   \n",
      "2             0.00       727.00   -46.07    993.17    69.52      1062.69   \n",
      "3             0.00     13066.45  -512.15  12866.54   900.66     13767.20   \n",
      "4          6248.88     13043.53  -466.78  15256.62  1067.96     16324.58   \n",
      "...            ...          ...      ...       ...      ...          ...   \n",
      "462645        0.00      3750.29  -152.56   3909.97   273.70      4183.67   \n",
      "462646        0.00      1145.61   -34.00   1423.85    99.67      1523.52   \n",
      "462647        0.00     31417.32 -1991.01  29738.55  2081.70     31820.25   \n",
      "462648     3002.60     19046.74  -159.99  23674.98  1657.25     25332.23   \n",
      "462649        0.00      3509.93   -43.10   3779.07   264.53      4043.60   \n",
      "\n",
      "        JobNO  \n",
      "0           1  \n",
      "1           1  \n",
      "2           1  \n",
      "3           1  \n",
      "4           1  \n",
      "...       ...  \n",
      "462645      1  \n",
      "462646      1  \n",
      "462647      1  \n",
      "462648      1  \n",
      "462649      1  \n",
      "\n",
      "[462650 rows x 20 columns]>\n"
     ]
    }
   ],
   "source": [
    "import pandas as pd\n",
    "import numpy as np\n",
    "from sklearn import datasets\n",
    "\n",
    "FEATURE_NAMES = ['KVA','KW_PK','KW_PP_OP','KW_OP_H','MAX_KW','LoadUse_Percent','KWH_PK','KWH_PP_OP','KWH_OP_H','KWH_TOT','AMT_KW_PK','AMT_KWH_PK','AMT_KWH_OP','AMT_KWH_TOT',\t'AMT_FT','AMT_BILL','AMT_VAT','AMT_INVOICE']\n",
    "file_excel_path = \"C:\\\\Users\\\\tahoa\\\\Machine Learning\\\\Dic_Tree_Data_PCR_Latest.xlsx\"\n",
    "df = pd.read_excel(file_excel_path)\n",
    "print(df.head)"
   ]
  },
  {
   "cell_type": "code",
   "execution_count": 52,
   "id": "9a97da42",
   "metadata": {},
   "outputs": [
    {
     "name": "stdout",
     "output_type": "stream",
     "text": [
      "['KVA', 'KW_PK', 'KW_PP_OP', 'KW_OP_H', 'MAX_KW', 'LoadUse_Percent', 'KWH_PK', 'KWH_PP_OP', 'KWH_OP_H', 'KWH_TOT', 'AMT_KW_PK', 'AMT_KWH_PK', 'AMT_KWH_OP', 'AMT_KWH_TOT', 'AMT_FT', 'AMT_BILL', 'AMT_VAT', 'AMT_INVOICE']\n"
     ]
    }
   ],
   "source": [
    "print(FEATURE_NAMES)"
   ]
  },
  {
   "cell_type": "code",
   "execution_count": 53,
   "id": "ab199f5e",
   "metadata": {},
   "outputs": [
    {
     "name": "stdout",
     "output_type": "stream",
     "text": [
      "<class 'pandas.core.frame.DataFrame'>\n",
      "RangeIndex: 462650 entries, 0 to 462649\n",
      "Data columns (total 20 columns):\n",
      " #   Column           Non-Null Count   Dtype  \n",
      "---  ------           --------------   -----  \n",
      " 0   KVA              462650 non-null  int64  \n",
      " 1   RATEBILL         462650 non-null  object \n",
      " 2   KW_PK            462650 non-null  float64\n",
      " 3   KW_PP_OP         462650 non-null  float64\n",
      " 4   KW_OP_H          462650 non-null  float64\n",
      " 5   MAX_KW           462650 non-null  float64\n",
      " 6   LoadUse_Percent  462650 non-null  float64\n",
      " 7   KWH_PK           462650 non-null  float64\n",
      " 8   KWH_PP_OP        462650 non-null  float64\n",
      " 9   KWH_OP_H         462650 non-null  float64\n",
      " 10  KWH_TOT          462650 non-null  float64\n",
      " 11  AMT_KW_PK        462650 non-null  float64\n",
      " 12  AMT_KWH_PK       462650 non-null  float64\n",
      " 13  AMT_KWH_OP       462650 non-null  float64\n",
      " 14  AMT_KWH_TOT      462650 non-null  float64\n",
      " 15  AMT_FT           462650 non-null  float64\n",
      " 16  AMT_BILL         462650 non-null  float64\n",
      " 17  AMT_VAT          462650 non-null  float64\n",
      " 18  AMT_INVOICE      462650 non-null  float64\n",
      " 19  JobNO            462650 non-null  int64  \n",
      "dtypes: float64(17), int64(2), object(1)\n",
      "memory usage: 70.6+ MB\n"
     ]
    }
   ],
   "source": [
    "df.info()"
   ]
  },
  {
   "cell_type": "markdown",
   "id": "a18725bb",
   "metadata": {},
   "source": [
    "# set x and y"
   ]
  },
  {
   "cell_type": "code",
   "execution_count": 54,
   "id": "a2795896",
   "metadata": {},
   "outputs": [],
   "source": [
    "from sklearn import tree\n",
    "from sklearn.neighbors import KNeighborsClassifier\n",
    "from sklearn.model_selection import train_test_split"
   ]
  },
  {
   "cell_type": "code",
   "execution_count": 55,
   "id": "105f00d5",
   "metadata": {},
   "outputs": [],
   "source": [
    "X = pd.DataFrame(df, columns = FEATURE_NAMES)\n",
    "y = df.JobNO\n",
    "train_x,test_x,train_y,test_y = train_test_split(X,y,train_size=0.9,random_state=1)"
   ]
  },
  {
   "cell_type": "code",
   "execution_count": 56,
   "id": "f1523e94",
   "metadata": {
    "scrolled": true
   },
   "outputs": [
    {
     "name": "stdout",
     "output_type": "stream",
     "text": [
      "KVA                416385\n",
      "KW_PK              416385\n",
      "KW_PP_OP           416385\n",
      "KW_OP_H            416385\n",
      "MAX_KW             416385\n",
      "LoadUse_Percent    416385\n",
      "KWH_PK             416385\n",
      "KWH_PP_OP          416385\n",
      "KWH_OP_H           416385\n",
      "KWH_TOT            416385\n",
      "AMT_KW_PK          416385\n",
      "AMT_KWH_PK         416385\n",
      "AMT_KWH_OP         416385\n",
      "AMT_KWH_TOT        416385\n",
      "AMT_FT             416385\n",
      "AMT_BILL           416385\n",
      "AMT_VAT            416385\n",
      "AMT_INVOICE        416385\n",
      "dtype: int64\n",
      "KVA                46265\n",
      "KW_PK              46265\n",
      "KW_PP_OP           46265\n",
      "KW_OP_H            46265\n",
      "MAX_KW             46265\n",
      "LoadUse_Percent    46265\n",
      "KWH_PK             46265\n",
      "KWH_PP_OP          46265\n",
      "KWH_OP_H           46265\n",
      "KWH_TOT            46265\n",
      "AMT_KW_PK          46265\n",
      "AMT_KWH_PK         46265\n",
      "AMT_KWH_OP         46265\n",
      "AMT_KWH_TOT        46265\n",
      "AMT_FT             46265\n",
      "AMT_BILL           46265\n",
      "AMT_VAT            46265\n",
      "AMT_INVOICE        46265\n",
      "dtype: int64\n"
     ]
    }
   ],
   "source": [
    "print(train_x.count())\n",
    "print(test_x.count())"
   ]
  },
  {
   "cell_type": "code",
   "execution_count": 57,
   "id": "cd0b5b4f",
   "metadata": {},
   "outputs": [],
   "source": [
    "Treemodel = tree.DecisionTreeClassifier()\n",
    "KNNmodel = KNeighborsClassifier(n_neighbors=5)\n",
    "Treemodel = Treemodel.fit(train_x,train_y)\n",
    "KNNmodel = KNNmodel.fit(train_x,train_y)"
   ]
  },
  {
   "cell_type": "code",
   "execution_count": 66,
   "id": "7fff20f2",
   "metadata": {},
   "outputs": [
    {
     "name": "stdout",
     "output_type": "stream",
     "text": [
      "0.91702150653842 0.9273532908245974\n"
     ]
    }
   ],
   "source": [
    "TreeScore =Treemodel.score(test_x,test_y)\n",
    "KnnScore = KNNmodel.score(test_x,test_y)\n",
    "print(TreeScore,KnnScore)"
   ]
  },
  {
   "cell_type": "markdown",
   "id": "a106cebd",
   "metadata": {},
   "source": [
    "# For Test Model"
   ]
  },
  {
   "cell_type": "code",
   "execution_count": 62,
   "id": "96f40188",
   "metadata": {},
   "outputs": [
    {
     "name": "stdout",
     "output_type": "stream",
     "text": [
      "[7]\n"
     ]
    },
    {
     "name": "stderr",
     "output_type": "stream",
     "text": [
      "C:\\Users\\tahoa\\AppData\\Local\\Programs\\Python\\Python310\\lib\\site-packages\\sklearn\\base.py:450: UserWarning: X does not have valid feature names, but DecisionTreeClassifier was fitted with feature names\n",
      "  warnings.warn(\n"
     ]
    }
   ],
   "source": [
    "NewData = [[160,0,0,0,0,0.00,6860,0,0,6860,0,0,0,26812.99,-2283.69,24841.54,1738.91,26580.45]]\n",
    "testPredict = Treemodel.predict(NewData)\n",
    "print(testPredict)"
   ]
  },
  {
   "cell_type": "markdown",
   "id": "bed8ec17",
   "metadata": {},
   "source": [
    "# For Test Score"
   ]
  },
  {
   "cell_type": "code",
   "execution_count": 67,
   "id": "ecc2c7bd",
   "metadata": {},
   "outputs": [
    {
     "name": "stdout",
     "output_type": "stream",
     "text": [
      "1.0\n"
     ]
    },
    {
     "name": "stderr",
     "output_type": "stream",
     "text": [
      "C:\\Users\\tahoa\\AppData\\Local\\Programs\\Python\\Python310\\lib\\site-packages\\sklearn\\base.py:450: UserWarning: X does not have valid feature names, but DecisionTreeClassifier was fitted with feature names\n",
      "  warnings.warn(\n"
     ]
    }
   ],
   "source": [
    "treeScore = model.score(NewData,[7])\n",
    "print(treeScore)"
   ]
  },
  {
   "cell_type": "markdown",
   "id": "10800f02",
   "metadata": {},
   "source": [
    "# "
   ]
  },
  {
   "cell_type": "code",
   "execution_count": 40,
   "id": "c5b9bfae",
   "metadata": {},
   "outputs": [
    {
     "data": {
      "text/plain": [
       "DecisionTreeClassifier()"
      ]
     },
     "execution_count": 40,
     "metadata": {},
     "output_type": "execute_result"
    }
   ],
   "source": [
    "from sklearn.tree import DecisionTreeClassifier\n",
    "model = DecisionTreeClassifier()\n",
    "model.fit(X,y)"
   ]
  },
  {
   "cell_type": "markdown",
   "id": "8a8dedce",
   "metadata": {},
   "source": [
    "# For export file image"
   ]
  },
  {
   "cell_type": "code",
   "execution_count": 41,
   "id": "3f578565",
   "metadata": {},
   "outputs": [],
   "source": [
    "from sklearn.tree import export_graphviz\n",
    "export_graphviz(model, 'PCR_DicisionTree.dot', feature_names = FEATURE_NAMES)"
   ]
  },
  {
   "cell_type": "code",
   "execution_count": 42,
   "id": "3ecb015d",
   "metadata": {},
   "outputs": [
    {
     "name": "stderr",
     "output_type": "stream",
     "text": [
      "dot: graph is too large for cairo-renderer bitmaps. Scaling by 0.0166961 to fit\n"
     ]
    }
   ],
   "source": [
    "! dot -Tpng PCR_DicisionTree.dot -o PCR_DicisionTree.png"
   ]
  },
  {
   "cell_type": "code",
   "execution_count": 43,
   "id": "5b8b91a1",
   "metadata": {},
   "outputs": [
    {
     "data": {
      "text/plain": [
       "<matplotlib.image.AxesImage at 0x21f209f5510>"
      ]
     },
     "execution_count": 43,
     "metadata": {},
     "output_type": "execute_result"
    },
    {
     "data": {
      "image/png": "[encoded data removed]",
      "text/plain": [
       "<Figure size 1440x1440 with 1 Axes>"
      ]
     },
     "metadata": {
      "needs_background": "light"
     },
     "output_type": "display_data"
    }
   ],
   "source": [
    "import matplotlib.pyplot as plt\n",
    "import cv2\n",
    "%matplotlib inline\n",
    "img = cv2.imread('PCR_DicisionTree.png')\n",
    "plt.figure(figsize = (20, 20))\n",
    "plt.imshow(img)"
   ]
  }
 ],
 "metadata": {
  "kernelspec": {
   "display_name": "Python 3 (ipykernel)",
   "language": "python",
   "name": "python3"
  },
  "language_info": {
   "codemirror_mode": {
    "name": "ipython",
    "version": 3
   },
   "file_extension": ".py",
   "mimetype": "text/x-python",
   "name": "python",
   "nbconvert_exporter": "python",
   "pygments_lexer": "ipython3",
   "version": "3.10.4"
  }
 },
 "nbformat": 4,
 "nbformat_minor": 5
}
